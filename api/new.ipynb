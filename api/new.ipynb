{
 "cells": [
  {
   "cell_type": "code",
   "execution_count": 27,
   "source": [
    "import pandas as pd\r\n",
    "import numpy as np\r\n",
    "import seaborn as sns\r\n",
    "import matplotlib.pyplot as plt\r\n",
    "from sklearn.model_selection import train_test_split\r\n",
    "from sklearn.metrics import accuracy_score\r\n",
    "from sklearn.metrics import classification_report\r\n",
    "from sklearn.metrics import plot_confusion_matrix\r\n",
    "import re\r\n",
    "import string\r\n",
    "from sklearn.feature_extraction.text import TfidfVectorizer\r\n"
   ],
   "outputs": [],
   "metadata": {}
  },
  {
   "cell_type": "code",
   "execution_count": 28,
   "source": [
    "df = pd.read_csv(\"df.csv\")\r\n",
    "x = df[\"title\"]\r\n",
    "y = df[\"label\"]\r\n",
    "x_train, x_test, y_train, y_test = train_test_split(x, y, test_size=0.25, random_state = 0) "
   ],
   "outputs": [],
   "metadata": {}
  },
  {
   "cell_type": "code",
   "execution_count": 31,
   "source": [
    "vectorization = TfidfVectorizer()\r\n",
    "xv_train = vectorization.fit_transform(x_train) #total terms: nXn matrix  \r\n",
    "xv_test = vectorization.transform(x_test)"
   ],
   "outputs": [],
   "metadata": {}
  },
  {
   "cell_type": "code",
   "execution_count": 32,
   "source": [
    "# from sklearn.svm import LinearSVC\r\n",
    "\r\n",
    "# clf = LinearSVC(random_state=0, tol=1e-5)\r\n",
    "# clf.fit(xv_train,y_train)\r\n",
    "# y_pred=clf.predict(xv_test)\r\n",
    "# accuracy=accuracy_score(y_test,y_pred)\r\n",
    "\r\n",
    "# print(accuracy*100)"
   ],
   "outputs": [
    {
     "output_type": "stream",
     "name": "stdout",
     "text": [
      "96.25835189309578\n"
     ]
    }
   ],
   "metadata": {}
  },
  {
   "cell_type": "code",
   "execution_count": 33,
   "source": [
    "# import pickle\r\n",
    "\r\n",
    "# with open(\"modal.pkl\",'wb') as f:\r\n",
    "#     pickle.dump(clf,f)"
   ],
   "outputs": [],
   "metadata": {}
  },
  {
   "cell_type": "code",
   "execution_count": 34,
   "source": [
    "loaded_model = pickle.load(open('modal.pkl', 'rb'))\r\n",
    "manual_testing = 'hello'\r\n",
    "input_data = [manual_testing] \r\n",
    "vectorized_input_data = vectorization.transform(input_data)     #\r\n",
    "print(\"vectorized_input_data\",vectorized_input_data)\r\n",
    "prediction = loaded_model.predict(vectorized_input_data)     #funciton arg in model"
   ],
   "outputs": [
    {
     "output_type": "stream",
     "name": "stdout",
     "text": [
      "vectorized_input_data   (0, 7824)\t1.0\n"
     ]
    }
   ],
   "metadata": {}
  },
  {
   "cell_type": "code",
   "execution_count": 35,
   "source": [
    "print(prediction)"
   ],
   "outputs": [
    {
     "output_type": "stream",
     "name": "stdout",
     "text": [
      "['FAKE']\n"
     ]
    }
   ],
   "metadata": {}
  },
  {
   "cell_type": "code",
   "execution_count": null,
   "source": [],
   "outputs": [],
   "metadata": {}
  }
 ],
 "metadata": {
  "orig_nbformat": 4,
  "language_info": {
   "name": "python",
   "version": "3.8.6",
   "mimetype": "text/x-python",
   "codemirror_mode": {
    "name": "ipython",
    "version": 3
   },
   "pygments_lexer": "ipython3",
   "nbconvert_exporter": "python",
   "file_extension": ".py"
  },
  "kernelspec": {
   "name": "python3",
   "display_name": "Python 3.8.6 64-bit"
  },
  "interpreter": {
   "hash": "9697e2a1051c7095ecd8665cc1eb639e4adf4411b9f4f8b8117fd1a8cfeac915"
  }
 },
 "nbformat": 4,
 "nbformat_minor": 2
}