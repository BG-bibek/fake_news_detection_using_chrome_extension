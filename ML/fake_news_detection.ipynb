{
    "cells": [
        {
            "cell_type": "code",
            "execution_count": 1,
            "source": [
                "import pandas as pd\r\n",
                "import numpy as np\r\n",
                "import seaborn as sns\r\n",
                "import matplotlib.pyplot as plt\r\n",
                "from sklearn.model_selection import train_test_split\r\n",
                "from sklearn.metrics import accuracy_score\r\n",
                "from sklearn.metrics import classification_report\r\n",
                "from sklearn.metrics import plot_confusion_matrix\r\n",
                "import re\r\n",
                "import string"
            ],
            "outputs": [],
            "metadata": {}
        },
        {
            "cell_type": "code",
            "execution_count": 2,
            "source": [
                "df_fake = pd.read_csv(\"Fake.csv\")\r\n",
                "df_true = pd.read_csv(\"True.csv\")\r\n"
            ],
            "outputs": [],
            "metadata": {}
        },
        {
            "cell_type": "code",
            "execution_count": 3,
            "source": [
                "df_fake.head(5)"
            ],
            "outputs": [
                {
                    "output_type": "execute_result",
                    "data": {
                        "text/plain": [
                            "                                               title  \\\n",
                            "0   Donald Trump Sends Out Embarrassing New Year’...   \n",
                            "1   Drunk Bragging Trump Staffer Started Russian ...   \n",
                            "2   Sheriff David Clarke Becomes An Internet Joke...   \n",
                            "3   Trump Is So Obsessed He Even Has Obama’s Name...   \n",
                            "4   Pope Francis Just Called Out Donald Trump Dur...   \n",
                            "\n",
                            "                                                text subject  \\\n",
                            "0  Donald Trump just couldn t wish all Americans ...    News   \n",
                            "1  House Intelligence Committee Chairman Devin Nu...    News   \n",
                            "2  On Friday, it was revealed that former Milwauk...    News   \n",
                            "3  On Christmas day, Donald Trump announced that ...    News   \n",
                            "4  Pope Francis used his annual Christmas Day mes...    News   \n",
                            "\n",
                            "                date  \n",
                            "0  December 31, 2017  \n",
                            "1  December 31, 2017  \n",
                            "2  December 30, 2017  \n",
                            "3  December 29, 2017  \n",
                            "4  December 25, 2017  "
                        ],
                        "text/html": [
                            "<div>\n",
                            "<style scoped>\n",
                            "    .dataframe tbody tr th:only-of-type {\n",
                            "        vertical-align: middle;\n",
                            "    }\n",
                            "\n",
                            "    .dataframe tbody tr th {\n",
                            "        vertical-align: top;\n",
                            "    }\n",
                            "\n",
                            "    .dataframe thead th {\n",
                            "        text-align: right;\n",
                            "    }\n",
                            "</style>\n",
                            "<table border=\"1\" class=\"dataframe\">\n",
                            "  <thead>\n",
                            "    <tr style=\"text-align: right;\">\n",
                            "      <th></th>\n",
                            "      <th>title</th>\n",
                            "      <th>text</th>\n",
                            "      <th>subject</th>\n",
                            "      <th>date</th>\n",
                            "    </tr>\n",
                            "  </thead>\n",
                            "  <tbody>\n",
                            "    <tr>\n",
                            "      <th>0</th>\n",
                            "      <td>Donald Trump Sends Out Embarrassing New Year’...</td>\n",
                            "      <td>Donald Trump just couldn t wish all Americans ...</td>\n",
                            "      <td>News</td>\n",
                            "      <td>December 31, 2017</td>\n",
                            "    </tr>\n",
                            "    <tr>\n",
                            "      <th>1</th>\n",
                            "      <td>Drunk Bragging Trump Staffer Started Russian ...</td>\n",
                            "      <td>House Intelligence Committee Chairman Devin Nu...</td>\n",
                            "      <td>News</td>\n",
                            "      <td>December 31, 2017</td>\n",
                            "    </tr>\n",
                            "    <tr>\n",
                            "      <th>2</th>\n",
                            "      <td>Sheriff David Clarke Becomes An Internet Joke...</td>\n",
                            "      <td>On Friday, it was revealed that former Milwauk...</td>\n",
                            "      <td>News</td>\n",
                            "      <td>December 30, 2017</td>\n",
                            "    </tr>\n",
                            "    <tr>\n",
                            "      <th>3</th>\n",
                            "      <td>Trump Is So Obsessed He Even Has Obama’s Name...</td>\n",
                            "      <td>On Christmas day, Donald Trump announced that ...</td>\n",
                            "      <td>News</td>\n",
                            "      <td>December 29, 2017</td>\n",
                            "    </tr>\n",
                            "    <tr>\n",
                            "      <th>4</th>\n",
                            "      <td>Pope Francis Just Called Out Donald Trump Dur...</td>\n",
                            "      <td>Pope Francis used his annual Christmas Day mes...</td>\n",
                            "      <td>News</td>\n",
                            "      <td>December 25, 2017</td>\n",
                            "    </tr>\n",
                            "  </tbody>\n",
                            "</table>\n",
                            "</div>"
                        ]
                    },
                    "metadata": {},
                    "execution_count": 3
                }
            ],
            "metadata": {}
        },
        {
            "cell_type": "code",
            "execution_count": 4,
            "source": [
                "df_true.head(5)"
            ],
            "outputs": [
                {
                    "output_type": "execute_result",
                    "data": {
                        "text/plain": [
                            "                                               title  \\\n",
                            "0  As U.S. budget fight looms, Republicans flip t...   \n",
                            "1  U.S. military to accept transgender recruits o...   \n",
                            "2  Senior U.S. Republican senator: 'Let Mr. Muell...   \n",
                            "3  FBI Russia probe helped by Australian diplomat...   \n",
                            "4  Trump wants Postal Service to charge 'much mor...   \n",
                            "\n",
                            "                                                text       subject  \\\n",
                            "0  WASHINGTON (Reuters) - The head of a conservat...  politicsNews   \n",
                            "1  WASHINGTON (Reuters) - Transgender people will...  politicsNews   \n",
                            "2  WASHINGTON (Reuters) - The special counsel inv...  politicsNews   \n",
                            "3  WASHINGTON (Reuters) - Trump campaign adviser ...  politicsNews   \n",
                            "4  SEATTLE/WASHINGTON (Reuters) - President Donal...  politicsNews   \n",
                            "\n",
                            "                 date  \n",
                            "0  December 31, 2017   \n",
                            "1  December 29, 2017   \n",
                            "2  December 31, 2017   \n",
                            "3  December 30, 2017   \n",
                            "4  December 29, 2017   "
                        ],
                        "text/html": [
                            "<div>\n",
                            "<style scoped>\n",
                            "    .dataframe tbody tr th:only-of-type {\n",
                            "        vertical-align: middle;\n",
                            "    }\n",
                            "\n",
                            "    .dataframe tbody tr th {\n",
                            "        vertical-align: top;\n",
                            "    }\n",
                            "\n",
                            "    .dataframe thead th {\n",
                            "        text-align: right;\n",
                            "    }\n",
                            "</style>\n",
                            "<table border=\"1\" class=\"dataframe\">\n",
                            "  <thead>\n",
                            "    <tr style=\"text-align: right;\">\n",
                            "      <th></th>\n",
                            "      <th>title</th>\n",
                            "      <th>text</th>\n",
                            "      <th>subject</th>\n",
                            "      <th>date</th>\n",
                            "    </tr>\n",
                            "  </thead>\n",
                            "  <tbody>\n",
                            "    <tr>\n",
                            "      <th>0</th>\n",
                            "      <td>As U.S. budget fight looms, Republicans flip t...</td>\n",
                            "      <td>WASHINGTON (Reuters) - The head of a conservat...</td>\n",
                            "      <td>politicsNews</td>\n",
                            "      <td>December 31, 2017</td>\n",
                            "    </tr>\n",
                            "    <tr>\n",
                            "      <th>1</th>\n",
                            "      <td>U.S. military to accept transgender recruits o...</td>\n",
                            "      <td>WASHINGTON (Reuters) - Transgender people will...</td>\n",
                            "      <td>politicsNews</td>\n",
                            "      <td>December 29, 2017</td>\n",
                            "    </tr>\n",
                            "    <tr>\n",
                            "      <th>2</th>\n",
                            "      <td>Senior U.S. Republican senator: 'Let Mr. Muell...</td>\n",
                            "      <td>WASHINGTON (Reuters) - The special counsel inv...</td>\n",
                            "      <td>politicsNews</td>\n",
                            "      <td>December 31, 2017</td>\n",
                            "    </tr>\n",
                            "    <tr>\n",
                            "      <th>3</th>\n",
                            "      <td>FBI Russia probe helped by Australian diplomat...</td>\n",
                            "      <td>WASHINGTON (Reuters) - Trump campaign adviser ...</td>\n",
                            "      <td>politicsNews</td>\n",
                            "      <td>December 30, 2017</td>\n",
                            "    </tr>\n",
                            "    <tr>\n",
                            "      <th>4</th>\n",
                            "      <td>Trump wants Postal Service to charge 'much mor...</td>\n",
                            "      <td>SEATTLE/WASHINGTON (Reuters) - President Donal...</td>\n",
                            "      <td>politicsNews</td>\n",
                            "      <td>December 29, 2017</td>\n",
                            "    </tr>\n",
                            "  </tbody>\n",
                            "</table>\n",
                            "</div>"
                        ]
                    },
                    "metadata": {},
                    "execution_count": 4
                }
            ],
            "metadata": {}
        },
        {
            "cell_type": "code",
            "execution_count": 5,
            "source": [
                "df_fake[\"label\"] = \"FAKE\"\r\n",
                "df_true[\"label\"] = \"TRUE\"\r\n",
                "df_true.head(5)\r\n"
            ],
            "outputs": [
                {
                    "output_type": "execute_result",
                    "data": {
                        "text/plain": [
                            "                                               title  \\\n",
                            "0  As U.S. budget fight looms, Republicans flip t...   \n",
                            "1  U.S. military to accept transgender recruits o...   \n",
                            "2  Senior U.S. Republican senator: 'Let Mr. Muell...   \n",
                            "3  FBI Russia probe helped by Australian diplomat...   \n",
                            "4  Trump wants Postal Service to charge 'much mor...   \n",
                            "\n",
                            "                                                text       subject  \\\n",
                            "0  WASHINGTON (Reuters) - The head of a conservat...  politicsNews   \n",
                            "1  WASHINGTON (Reuters) - Transgender people will...  politicsNews   \n",
                            "2  WASHINGTON (Reuters) - The special counsel inv...  politicsNews   \n",
                            "3  WASHINGTON (Reuters) - Trump campaign adviser ...  politicsNews   \n",
                            "4  SEATTLE/WASHINGTON (Reuters) - President Donal...  politicsNews   \n",
                            "\n",
                            "                 date label  \n",
                            "0  December 31, 2017   TRUE  \n",
                            "1  December 29, 2017   TRUE  \n",
                            "2  December 31, 2017   TRUE  \n",
                            "3  December 30, 2017   TRUE  \n",
                            "4  December 29, 2017   TRUE  "
                        ],
                        "text/html": [
                            "<div>\n",
                            "<style scoped>\n",
                            "    .dataframe tbody tr th:only-of-type {\n",
                            "        vertical-align: middle;\n",
                            "    }\n",
                            "\n",
                            "    .dataframe tbody tr th {\n",
                            "        vertical-align: top;\n",
                            "    }\n",
                            "\n",
                            "    .dataframe thead th {\n",
                            "        text-align: right;\n",
                            "    }\n",
                            "</style>\n",
                            "<table border=\"1\" class=\"dataframe\">\n",
                            "  <thead>\n",
                            "    <tr style=\"text-align: right;\">\n",
                            "      <th></th>\n",
                            "      <th>title</th>\n",
                            "      <th>text</th>\n",
                            "      <th>subject</th>\n",
                            "      <th>date</th>\n",
                            "      <th>label</th>\n",
                            "    </tr>\n",
                            "  </thead>\n",
                            "  <tbody>\n",
                            "    <tr>\n",
                            "      <th>0</th>\n",
                            "      <td>As U.S. budget fight looms, Republicans flip t...</td>\n",
                            "      <td>WASHINGTON (Reuters) - The head of a conservat...</td>\n",
                            "      <td>politicsNews</td>\n",
                            "      <td>December 31, 2017</td>\n",
                            "      <td>TRUE</td>\n",
                            "    </tr>\n",
                            "    <tr>\n",
                            "      <th>1</th>\n",
                            "      <td>U.S. military to accept transgender recruits o...</td>\n",
                            "      <td>WASHINGTON (Reuters) - Transgender people will...</td>\n",
                            "      <td>politicsNews</td>\n",
                            "      <td>December 29, 2017</td>\n",
                            "      <td>TRUE</td>\n",
                            "    </tr>\n",
                            "    <tr>\n",
                            "      <th>2</th>\n",
                            "      <td>Senior U.S. Republican senator: 'Let Mr. Muell...</td>\n",
                            "      <td>WASHINGTON (Reuters) - The special counsel inv...</td>\n",
                            "      <td>politicsNews</td>\n",
                            "      <td>December 31, 2017</td>\n",
                            "      <td>TRUE</td>\n",
                            "    </tr>\n",
                            "    <tr>\n",
                            "      <th>3</th>\n",
                            "      <td>FBI Russia probe helped by Australian diplomat...</td>\n",
                            "      <td>WASHINGTON (Reuters) - Trump campaign adviser ...</td>\n",
                            "      <td>politicsNews</td>\n",
                            "      <td>December 30, 2017</td>\n",
                            "      <td>TRUE</td>\n",
                            "    </tr>\n",
                            "    <tr>\n",
                            "      <th>4</th>\n",
                            "      <td>Trump wants Postal Service to charge 'much mor...</td>\n",
                            "      <td>SEATTLE/WASHINGTON (Reuters) - President Donal...</td>\n",
                            "      <td>politicsNews</td>\n",
                            "      <td>December 29, 2017</td>\n",
                            "      <td>TRUE</td>\n",
                            "    </tr>\n",
                            "  </tbody>\n",
                            "</table>\n",
                            "</div>"
                        ]
                    },
                    "metadata": {},
                    "execution_count": 5
                }
            ],
            "metadata": {}
        },
        {
            "cell_type": "code",
            "execution_count": 6,
            "source": [
                "df_fake.shape, df_true.shape\r\n"
            ],
            "outputs": [
                {
                    "output_type": "execute_result",
                    "data": {
                        "text/plain": [
                            "((23481, 5), (21417, 5))"
                        ]
                    },
                    "metadata": {},
                    "execution_count": 6
                }
            ],
            "metadata": {}
        },
        {
            "cell_type": "code",
            "execution_count": 37,
            "source": [
                "df_fake_manual_testing = df_fake.tail(10)  #TO DO\r\n",
                "for i in range(23481,23481,-1):\r\n",
                "    df_fake.drop([i], axis = 0, inplace = True)\r\n",
                "df_true_manual_testing = df_true.tail(10)\r\n",
                "for i in range(21417,21417,-1):\r\n",
                "    df_true.drop([i], axis = 0, inplace = True)"
            ],
            "outputs": [],
            "metadata": {}
        },
        {
            "cell_type": "code",
            "execution_count": 40,
            "source": [
                "df_manual_testing = pd.concat([df_fake_manual_testing,df_true_manual_testing], axis = 0)\r\n",
                "df_manual_testing.to_csv(\"dataset_manual_testing.csv\")"
            ],
            "outputs": [],
            "metadata": {}
        },
        {
            "cell_type": "code",
            "execution_count": 41,
            "source": [
                "k=pd.read_csv(\"dataset_manual_testing.csv\")\r\n"
            ],
            "outputs": [],
            "metadata": {}
        },
        {
            "cell_type": "code",
            "execution_count": 44,
            "source": [
                "k.head(10)\r\n",
                "\r\n"
            ],
            "outputs": [
                {
                    "output_type": "execute_result",
                    "data": {
                        "text/plain": [
                            "   Unnamed: 0                                              title  \\\n",
                            "0       23471  Seven Iranians freed in the prisoner swap have...   \n",
                            "1       23472                      #Hashtag Hell & The Fake Left   \n",
                            "2       23473  Astroturfing: Journalist Reveals Brainwashing ...   \n",
                            "3       23474          The New American Century: An Era of Fraud   \n",
                            "4       23475  Hillary Clinton: ‘Israel First’ (and no peace ...   \n",
                            "5       23476  McPain: John McCain Furious That Iran Treated ...   \n",
                            "6       23477  JUSTICE? Yahoo Settles E-mail Privacy Class-ac...   \n",
                            "7       23478  Sunnistan: US and Allied ‘Safe Zone’ Plan to T...   \n",
                            "8       23479  How to Blow $700 Million: Al Jazeera America F...   \n",
                            "9       23480  10 U.S. Navy Sailors Held by Iranian Military ...   \n",
                            "\n",
                            "                                                text      subject  \\\n",
                            "0  21st Century Wire says This week, the historic...  Middle-east   \n",
                            "1   By Dady Chery and Gilbert MercierAll writers ...  Middle-east   \n",
                            "2  Vic Bishop Waking TimesOur reality is carefull...  Middle-east   \n",
                            "3  Paul Craig RobertsIn the last years of the 20t...  Middle-east   \n",
                            "4  Robert Fantina CounterpunchAlthough the United...  Middle-east   \n",
                            "5  21st Century Wire says As 21WIRE reported earl...  Middle-east   \n",
                            "6  21st Century Wire says It s a familiar theme. ...  Middle-east   \n",
                            "7  Patrick Henningsen  21st Century WireRemember ...  Middle-east   \n",
                            "8  21st Century Wire says Al Jazeera America will...  Middle-east   \n",
                            "9  21st Century Wire says As 21WIRE predicted in ...  Middle-east   \n",
                            "\n",
                            "               date label  \n",
                            "0  January 20, 2016  FAKE  \n",
                            "1  January 19, 2016  FAKE  \n",
                            "2  January 19, 2016  FAKE  \n",
                            "3  January 19, 2016  FAKE  \n",
                            "4  January 18, 2016  FAKE  \n",
                            "5  January 16, 2016  FAKE  \n",
                            "6  January 16, 2016  FAKE  \n",
                            "7  January 15, 2016  FAKE  \n",
                            "8  January 14, 2016  FAKE  \n",
                            "9  January 12, 2016  FAKE  "
                        ],
                        "text/html": [
                            "<div>\n",
                            "<style scoped>\n",
                            "    .dataframe tbody tr th:only-of-type {\n",
                            "        vertical-align: middle;\n",
                            "    }\n",
                            "\n",
                            "    .dataframe tbody tr th {\n",
                            "        vertical-align: top;\n",
                            "    }\n",
                            "\n",
                            "    .dataframe thead th {\n",
                            "        text-align: right;\n",
                            "    }\n",
                            "</style>\n",
                            "<table border=\"1\" class=\"dataframe\">\n",
                            "  <thead>\n",
                            "    <tr style=\"text-align: right;\">\n",
                            "      <th></th>\n",
                            "      <th>Unnamed: 0</th>\n",
                            "      <th>title</th>\n",
                            "      <th>text</th>\n",
                            "      <th>subject</th>\n",
                            "      <th>date</th>\n",
                            "      <th>label</th>\n",
                            "    </tr>\n",
                            "  </thead>\n",
                            "  <tbody>\n",
                            "    <tr>\n",
                            "      <th>0</th>\n",
                            "      <td>23471</td>\n",
                            "      <td>Seven Iranians freed in the prisoner swap have...</td>\n",
                            "      <td>21st Century Wire says This week, the historic...</td>\n",
                            "      <td>Middle-east</td>\n",
                            "      <td>January 20, 2016</td>\n",
                            "      <td>FAKE</td>\n",
                            "    </tr>\n",
                            "    <tr>\n",
                            "      <th>1</th>\n",
                            "      <td>23472</td>\n",
                            "      <td>#Hashtag Hell &amp; The Fake Left</td>\n",
                            "      <td>By Dady Chery and Gilbert MercierAll writers ...</td>\n",
                            "      <td>Middle-east</td>\n",
                            "      <td>January 19, 2016</td>\n",
                            "      <td>FAKE</td>\n",
                            "    </tr>\n",
                            "    <tr>\n",
                            "      <th>2</th>\n",
                            "      <td>23473</td>\n",
                            "      <td>Astroturfing: Journalist Reveals Brainwashing ...</td>\n",
                            "      <td>Vic Bishop Waking TimesOur reality is carefull...</td>\n",
                            "      <td>Middle-east</td>\n",
                            "      <td>January 19, 2016</td>\n",
                            "      <td>FAKE</td>\n",
                            "    </tr>\n",
                            "    <tr>\n",
                            "      <th>3</th>\n",
                            "      <td>23474</td>\n",
                            "      <td>The New American Century: An Era of Fraud</td>\n",
                            "      <td>Paul Craig RobertsIn the last years of the 20t...</td>\n",
                            "      <td>Middle-east</td>\n",
                            "      <td>January 19, 2016</td>\n",
                            "      <td>FAKE</td>\n",
                            "    </tr>\n",
                            "    <tr>\n",
                            "      <th>4</th>\n",
                            "      <td>23475</td>\n",
                            "      <td>Hillary Clinton: ‘Israel First’ (and no peace ...</td>\n",
                            "      <td>Robert Fantina CounterpunchAlthough the United...</td>\n",
                            "      <td>Middle-east</td>\n",
                            "      <td>January 18, 2016</td>\n",
                            "      <td>FAKE</td>\n",
                            "    </tr>\n",
                            "    <tr>\n",
                            "      <th>5</th>\n",
                            "      <td>23476</td>\n",
                            "      <td>McPain: John McCain Furious That Iran Treated ...</td>\n",
                            "      <td>21st Century Wire says As 21WIRE reported earl...</td>\n",
                            "      <td>Middle-east</td>\n",
                            "      <td>January 16, 2016</td>\n",
                            "      <td>FAKE</td>\n",
                            "    </tr>\n",
                            "    <tr>\n",
                            "      <th>6</th>\n",
                            "      <td>23477</td>\n",
                            "      <td>JUSTICE? Yahoo Settles E-mail Privacy Class-ac...</td>\n",
                            "      <td>21st Century Wire says It s a familiar theme. ...</td>\n",
                            "      <td>Middle-east</td>\n",
                            "      <td>January 16, 2016</td>\n",
                            "      <td>FAKE</td>\n",
                            "    </tr>\n",
                            "    <tr>\n",
                            "      <th>7</th>\n",
                            "      <td>23478</td>\n",
                            "      <td>Sunnistan: US and Allied ‘Safe Zone’ Plan to T...</td>\n",
                            "      <td>Patrick Henningsen  21st Century WireRemember ...</td>\n",
                            "      <td>Middle-east</td>\n",
                            "      <td>January 15, 2016</td>\n",
                            "      <td>FAKE</td>\n",
                            "    </tr>\n",
                            "    <tr>\n",
                            "      <th>8</th>\n",
                            "      <td>23479</td>\n",
                            "      <td>How to Blow $700 Million: Al Jazeera America F...</td>\n",
                            "      <td>21st Century Wire says Al Jazeera America will...</td>\n",
                            "      <td>Middle-east</td>\n",
                            "      <td>January 14, 2016</td>\n",
                            "      <td>FAKE</td>\n",
                            "    </tr>\n",
                            "    <tr>\n",
                            "      <th>9</th>\n",
                            "      <td>23480</td>\n",
                            "      <td>10 U.S. Navy Sailors Held by Iranian Military ...</td>\n",
                            "      <td>21st Century Wire says As 21WIRE predicted in ...</td>\n",
                            "      <td>Middle-east</td>\n",
                            "      <td>January 12, 2016</td>\n",
                            "      <td>FAKE</td>\n",
                            "    </tr>\n",
                            "  </tbody>\n",
                            "</table>\n",
                            "</div>"
                        ]
                    },
                    "metadata": {},
                    "execution_count": 44
                }
            ],
            "metadata": {}
        },
        {
            "cell_type": "code",
            "execution_count": 7,
            "source": [
                "df_combine = pd.concat([df_fake, df_true], axis =0 )\r\n",
                "df_combine.head(10)"
            ],
            "outputs": [
                {
                    "output_type": "execute_result",
                    "data": {
                        "text/plain": [
                            "                                               title  \\\n",
                            "0   Donald Trump Sends Out Embarrassing New Year’...   \n",
                            "1   Drunk Bragging Trump Staffer Started Russian ...   \n",
                            "2   Sheriff David Clarke Becomes An Internet Joke...   \n",
                            "3   Trump Is So Obsessed He Even Has Obama’s Name...   \n",
                            "4   Pope Francis Just Called Out Donald Trump Dur...   \n",
                            "5   Racist Alabama Cops Brutalize Black Boy While...   \n",
                            "6   Fresh Off The Golf Course, Trump Lashes Out A...   \n",
                            "7   Trump Said Some INSANELY Racist Stuff Inside ...   \n",
                            "8   Former CIA Director Slams Trump Over UN Bully...   \n",
                            "9   WATCH: Brand-New Pro-Trump Ad Features So Muc...   \n",
                            "\n",
                            "                                                text subject  \\\n",
                            "0  Donald Trump just couldn t wish all Americans ...    News   \n",
                            "1  House Intelligence Committee Chairman Devin Nu...    News   \n",
                            "2  On Friday, it was revealed that former Milwauk...    News   \n",
                            "3  On Christmas day, Donald Trump announced that ...    News   \n",
                            "4  Pope Francis used his annual Christmas Day mes...    News   \n",
                            "5  The number of cases of cops brutalizing and ki...    News   \n",
                            "6  Donald Trump spent a good portion of his day a...    News   \n",
                            "7  In the wake of yet another court decision that...    News   \n",
                            "8  Many people have raised the alarm regarding th...    News   \n",
                            "9  Just when you might have thought we d get a br...    News   \n",
                            "\n",
                            "                date label  \n",
                            "0  December 31, 2017  FAKE  \n",
                            "1  December 31, 2017  FAKE  \n",
                            "2  December 30, 2017  FAKE  \n",
                            "3  December 29, 2017  FAKE  \n",
                            "4  December 25, 2017  FAKE  \n",
                            "5  December 25, 2017  FAKE  \n",
                            "6  December 23, 2017  FAKE  \n",
                            "7  December 23, 2017  FAKE  \n",
                            "8  December 22, 2017  FAKE  \n",
                            "9  December 21, 2017  FAKE  "
                        ],
                        "text/html": [
                            "<div>\n",
                            "<style scoped>\n",
                            "    .dataframe tbody tr th:only-of-type {\n",
                            "        vertical-align: middle;\n",
                            "    }\n",
                            "\n",
                            "    .dataframe tbody tr th {\n",
                            "        vertical-align: top;\n",
                            "    }\n",
                            "\n",
                            "    .dataframe thead th {\n",
                            "        text-align: right;\n",
                            "    }\n",
                            "</style>\n",
                            "<table border=\"1\" class=\"dataframe\">\n",
                            "  <thead>\n",
                            "    <tr style=\"text-align: right;\">\n",
                            "      <th></th>\n",
                            "      <th>title</th>\n",
                            "      <th>text</th>\n",
                            "      <th>subject</th>\n",
                            "      <th>date</th>\n",
                            "      <th>label</th>\n",
                            "    </tr>\n",
                            "  </thead>\n",
                            "  <tbody>\n",
                            "    <tr>\n",
                            "      <th>0</th>\n",
                            "      <td>Donald Trump Sends Out Embarrassing New Year’...</td>\n",
                            "      <td>Donald Trump just couldn t wish all Americans ...</td>\n",
                            "      <td>News</td>\n",
                            "      <td>December 31, 2017</td>\n",
                            "      <td>FAKE</td>\n",
                            "    </tr>\n",
                            "    <tr>\n",
                            "      <th>1</th>\n",
                            "      <td>Drunk Bragging Trump Staffer Started Russian ...</td>\n",
                            "      <td>House Intelligence Committee Chairman Devin Nu...</td>\n",
                            "      <td>News</td>\n",
                            "      <td>December 31, 2017</td>\n",
                            "      <td>FAKE</td>\n",
                            "    </tr>\n",
                            "    <tr>\n",
                            "      <th>2</th>\n",
                            "      <td>Sheriff David Clarke Becomes An Internet Joke...</td>\n",
                            "      <td>On Friday, it was revealed that former Milwauk...</td>\n",
                            "      <td>News</td>\n",
                            "      <td>December 30, 2017</td>\n",
                            "      <td>FAKE</td>\n",
                            "    </tr>\n",
                            "    <tr>\n",
                            "      <th>3</th>\n",
                            "      <td>Trump Is So Obsessed He Even Has Obama’s Name...</td>\n",
                            "      <td>On Christmas day, Donald Trump announced that ...</td>\n",
                            "      <td>News</td>\n",
                            "      <td>December 29, 2017</td>\n",
                            "      <td>FAKE</td>\n",
                            "    </tr>\n",
                            "    <tr>\n",
                            "      <th>4</th>\n",
                            "      <td>Pope Francis Just Called Out Donald Trump Dur...</td>\n",
                            "      <td>Pope Francis used his annual Christmas Day mes...</td>\n",
                            "      <td>News</td>\n",
                            "      <td>December 25, 2017</td>\n",
                            "      <td>FAKE</td>\n",
                            "    </tr>\n",
                            "    <tr>\n",
                            "      <th>5</th>\n",
                            "      <td>Racist Alabama Cops Brutalize Black Boy While...</td>\n",
                            "      <td>The number of cases of cops brutalizing and ki...</td>\n",
                            "      <td>News</td>\n",
                            "      <td>December 25, 2017</td>\n",
                            "      <td>FAKE</td>\n",
                            "    </tr>\n",
                            "    <tr>\n",
                            "      <th>6</th>\n",
                            "      <td>Fresh Off The Golf Course, Trump Lashes Out A...</td>\n",
                            "      <td>Donald Trump spent a good portion of his day a...</td>\n",
                            "      <td>News</td>\n",
                            "      <td>December 23, 2017</td>\n",
                            "      <td>FAKE</td>\n",
                            "    </tr>\n",
                            "    <tr>\n",
                            "      <th>7</th>\n",
                            "      <td>Trump Said Some INSANELY Racist Stuff Inside ...</td>\n",
                            "      <td>In the wake of yet another court decision that...</td>\n",
                            "      <td>News</td>\n",
                            "      <td>December 23, 2017</td>\n",
                            "      <td>FAKE</td>\n",
                            "    </tr>\n",
                            "    <tr>\n",
                            "      <th>8</th>\n",
                            "      <td>Former CIA Director Slams Trump Over UN Bully...</td>\n",
                            "      <td>Many people have raised the alarm regarding th...</td>\n",
                            "      <td>News</td>\n",
                            "      <td>December 22, 2017</td>\n",
                            "      <td>FAKE</td>\n",
                            "    </tr>\n",
                            "    <tr>\n",
                            "      <th>9</th>\n",
                            "      <td>WATCH: Brand-New Pro-Trump Ad Features So Muc...</td>\n",
                            "      <td>Just when you might have thought we d get a br...</td>\n",
                            "      <td>News</td>\n",
                            "      <td>December 21, 2017</td>\n",
                            "      <td>FAKE</td>\n",
                            "    </tr>\n",
                            "  </tbody>\n",
                            "</table>\n",
                            "</div>"
                        ]
                    },
                    "metadata": {},
                    "execution_count": 7
                }
            ],
            "metadata": {}
        },
        {
            "cell_type": "code",
            "execution_count": 8,
            "source": [
                "df_combine.columns\r\n"
            ],
            "outputs": [
                {
                    "output_type": "execute_result",
                    "data": {
                        "text/plain": [
                            "Index(['title', 'text', 'subject', 'date', 'label'], dtype='object')"
                        ]
                    },
                    "metadata": {},
                    "execution_count": 8
                }
            ],
            "metadata": {}
        },
        {
            "cell_type": "code",
            "execution_count": 9,
            "source": [
                "df = df_combine.drop([\"text\", \"subject\",\"date\"], axis = 1)\r\n",
                "df.head()"
            ],
            "outputs": [
                {
                    "output_type": "execute_result",
                    "data": {
                        "text/plain": [
                            "                                               title label\n",
                            "0   Donald Trump Sends Out Embarrassing New Year’...  FAKE\n",
                            "1   Drunk Bragging Trump Staffer Started Russian ...  FAKE\n",
                            "2   Sheriff David Clarke Becomes An Internet Joke...  FAKE\n",
                            "3   Trump Is So Obsessed He Even Has Obama’s Name...  FAKE\n",
                            "4   Pope Francis Just Called Out Donald Trump Dur...  FAKE"
                        ],
                        "text/html": [
                            "<div>\n",
                            "<style scoped>\n",
                            "    .dataframe tbody tr th:only-of-type {\n",
                            "        vertical-align: middle;\n",
                            "    }\n",
                            "\n",
                            "    .dataframe tbody tr th {\n",
                            "        vertical-align: top;\n",
                            "    }\n",
                            "\n",
                            "    .dataframe thead th {\n",
                            "        text-align: right;\n",
                            "    }\n",
                            "</style>\n",
                            "<table border=\"1\" class=\"dataframe\">\n",
                            "  <thead>\n",
                            "    <tr style=\"text-align: right;\">\n",
                            "      <th></th>\n",
                            "      <th>title</th>\n",
                            "      <th>label</th>\n",
                            "    </tr>\n",
                            "  </thead>\n",
                            "  <tbody>\n",
                            "    <tr>\n",
                            "      <th>0</th>\n",
                            "      <td>Donald Trump Sends Out Embarrassing New Year’...</td>\n",
                            "      <td>FAKE</td>\n",
                            "    </tr>\n",
                            "    <tr>\n",
                            "      <th>1</th>\n",
                            "      <td>Drunk Bragging Trump Staffer Started Russian ...</td>\n",
                            "      <td>FAKE</td>\n",
                            "    </tr>\n",
                            "    <tr>\n",
                            "      <th>2</th>\n",
                            "      <td>Sheriff David Clarke Becomes An Internet Joke...</td>\n",
                            "      <td>FAKE</td>\n",
                            "    </tr>\n",
                            "    <tr>\n",
                            "      <th>3</th>\n",
                            "      <td>Trump Is So Obsessed He Even Has Obama’s Name...</td>\n",
                            "      <td>FAKE</td>\n",
                            "    </tr>\n",
                            "    <tr>\n",
                            "      <th>4</th>\n",
                            "      <td>Pope Francis Just Called Out Donald Trump Dur...</td>\n",
                            "      <td>FAKE</td>\n",
                            "    </tr>\n",
                            "  </tbody>\n",
                            "</table>\n",
                            "</div>"
                        ]
                    },
                    "metadata": {},
                    "execution_count": 9
                }
            ],
            "metadata": {}
        },
        {
            "cell_type": "code",
            "execution_count": 10,
            "source": [
                "df.isnull().sum()"
            ],
            "outputs": [
                {
                    "output_type": "execute_result",
                    "data": {
                        "text/plain": [
                            "title    0\n",
                            "label    0\n",
                            "dtype: int64"
                        ]
                    },
                    "metadata": {},
                    "execution_count": 10
                }
            ],
            "metadata": {}
        },
        {
            "cell_type": "code",
            "execution_count": 11,
            "source": [
                "df = df.sample(frac = 1)  \r\n",
                "print(df)"
            ],
            "outputs": [
                {
                    "output_type": "stream",
                    "name": "stdout",
                    "text": [
                        "                                                   title label\n",
                        "1410    Trump Wants Flynn Back, Says Special Counsel ...  FAKE\n",
                        "2057   Exclusive: Trump's Afghan decision may increas...  TRUE\n",
                        "8654   Alaska's top court rejects parental notice for...  TRUE\n",
                        "16993  BIG BROTHER: IRS Using Secret Cellphone Tracki...  FAKE\n",
                        "18638  Saudi authorities pursue Twitter user over wom...  TRUE\n",
                        "...                                                  ...   ...\n",
                        "2665   U.S. says China acknowledged goal of reducing ...  TRUE\n",
                        "4253    Woman Who Defended GOP Against Sexism Charges...  FAKE\n",
                        "5575    WATCH: Fox News Host And Trump Supporter Call...  FAKE\n",
                        "2855   Factbox: Trump on Twitter (July 9) - G20, Puti...  TRUE\n",
                        "12472  BILL CLINTON RECENTLY CAUGHT Making Racist Rem...  FAKE\n",
                        "\n",
                        "[44898 rows x 2 columns]\n"
                    ]
                }
            ],
            "metadata": {}
        },
        {
            "cell_type": "code",
            "execution_count": 12,
            "source": [
                "df.reset_index(inplace = True)\r\n",
                "df.drop([\"index\"], axis = 1, inplace = True)\r\n",
                "print(df)"
            ],
            "outputs": [
                {
                    "output_type": "stream",
                    "name": "stdout",
                    "text": [
                        "                                                   title label\n",
                        "0       Trump Wants Flynn Back, Says Special Counsel ...  FAKE\n",
                        "1      Exclusive: Trump's Afghan decision may increas...  TRUE\n",
                        "2      Alaska's top court rejects parental notice for...  TRUE\n",
                        "3      BIG BROTHER: IRS Using Secret Cellphone Tracki...  FAKE\n",
                        "4      Saudi authorities pursue Twitter user over wom...  TRUE\n",
                        "...                                                  ...   ...\n",
                        "44893  U.S. says China acknowledged goal of reducing ...  TRUE\n",
                        "44894   Woman Who Defended GOP Against Sexism Charges...  FAKE\n",
                        "44895   WATCH: Fox News Host And Trump Supporter Call...  FAKE\n",
                        "44896  Factbox: Trump on Twitter (July 9) - G20, Puti...  TRUE\n",
                        "44897  BILL CLINTON RECENTLY CAUGHT Making Racist Rem...  FAKE\n",
                        "\n",
                        "[44898 rows x 2 columns]\n"
                    ]
                }
            ],
            "metadata": {}
        },
        {
            "cell_type": "code",
            "execution_count": 13,
            "source": [
                "def removeRegularExp(text): #regular expression\r\n",
                "    text = text.lower()\r\n",
                "    text = re.sub('\\[.*?\\]', '', text)\r\n",
                "    text = re.sub(\"\\\\W\",\" \",text) \r\n",
                "    text = re.sub('https?://\\S+|www\\.\\S+', '', text)\r\n",
                "    text = re.sub('<.*?>+', '', text) #remove fullstop\r\n",
                "    text = re.sub('[%s]' % re.escape(string.punctuation), '', text)\r\n",
                "    text = re.sub('\\n', '', text)\r\n",
                "    text = re.sub('\\w*\\d\\w*', '', text)    \r\n",
                "    return text"
            ],
            "outputs": [],
            "metadata": {}
        },
        {
            "cell_type": "code",
            "execution_count": 14,
            "source": [
                "\r\n",
                "df[\"title\"] = df[\"title\"].apply(removeRegularExp)\r\n"
            ],
            "outputs": [],
            "metadata": {}
        },
        {
            "cell_type": "code",
            "execution_count": 15,
            "source": [
                "x = df[\"title\"]\r\n",
                "y = df[\"label\"]\r\n",
                "print(x)"
            ],
            "outputs": [
                {
                    "output_type": "stream",
                    "name": "stdout",
                    "text": [
                        "0         trump wants flynn back  says special counsel ...\n",
                        "1        exclusive  trump s afghan decision may increas...\n",
                        "2        alaska s top court rejects parental notice for...\n",
                        "3        big brother  irs using secret cellphone tracki...\n",
                        "4        saudi authorities pursue twitter user over wom...\n",
                        "                               ...                        \n",
                        "44893    u s  says china acknowledged goal of reducing ...\n",
                        "44894     woman who defended gop against sexism charges...\n",
                        "44895     watch  fox news host and trump supporter call...\n",
                        "44896    factbox  trump on twitter  july       putin  s...\n",
                        "44897    bill clinton recently caught making racist rem...\n",
                        "Name: title, Length: 44898, dtype: object\n"
                    ]
                }
            ],
            "metadata": {}
        },
        {
            "cell_type": "code",
            "execution_count": 16,
            "source": [
                "df['label'].value_counts().plot(kind = 'bar')"
            ],
            "outputs": [
                {
                    "output_type": "execute_result",
                    "data": {
                        "text/plain": [
                            "<AxesSubplot:>"
                        ]
                    },
                    "metadata": {},
                    "execution_count": 16
                },
                {
                    "output_type": "display_data",
                    "data": {
                        "text/plain": [
                            "<Figure size 432x288 with 1 Axes>"
                        ],
                        "image/png": "[encoded data removed]"
                    },
                    "metadata": {
                        "needs_background": "light"
                    }
                }
            ],
            "metadata": {}
        },
        {
            "cell_type": "code",
            "execution_count": 17,
            "source": [
                "x_train, x_test, y_train, y_test = train_test_split(x, y, test_size=0.25, random_state = 0) "
            ],
            "outputs": [],
            "metadata": {}
        },
        {
            "cell_type": "code",
            "execution_count": 18,
            "source": [
                "from sklearn.feature_extraction.text import TfidfVectorizer\r\n"
            ],
            "outputs": [],
            "metadata": {}
        },
        {
            "cell_type": "code",
            "execution_count": 19,
            "source": [
                "vectorization = TfidfVectorizer()\r\n",
                "xv_train = vectorization.fit_transform(x_train) #total terms: nXn matrix  \r\n",
                "xv_test = vectorization.transform(x_test)"
            ],
            "outputs": [],
            "metadata": {}
        },
        {
            "cell_type": "code",
            "execution_count": 20,
            "source": [
                "y_train.head()"
            ],
            "outputs": [
                {
                    "output_type": "execute_result",
                    "data": {
                        "text/plain": [
                            "13637    FAKE\n",
                            "42421    FAKE\n",
                            "37916    FAKE\n",
                            "3321     FAKE\n",
                            "2345     TRUE\n",
                            "Name: label, dtype: object"
                        ]
                    },
                    "metadata": {},
                    "execution_count": 20
                }
            ],
            "metadata": {}
        },
        {
            "cell_type": "code",
            "execution_count": 21,
            "source": [
                "from sklearn.linear_model import LogisticRegression\r\n",
                "\r\n"
            ],
            "outputs": [],
            "metadata": {}
        },
        {
            "cell_type": "code",
            "execution_count": 22,
            "source": [
                "Lr=LogisticRegression()\r\n",
                "Lr.fit(xv_train,y_train)\r\n"
            ],
            "outputs": [
                {
                    "output_type": "execute_result",
                    "data": {
                        "text/plain": [
                            "LogisticRegression()"
                        ]
                    },
                    "metadata": {},
                    "execution_count": 22
                }
            ],
            "metadata": {}
        },
        {
            "cell_type": "code",
            "execution_count": 23,
            "source": [
                "predic_Lr=Lr.predict(xv_test)"
            ],
            "outputs": [],
            "metadata": {}
        },
        {
            "cell_type": "code",
            "execution_count": 24,
            "source": [
                "accuracy = Lr.score(xv_test, y_test)\r\n",
                "print(accuracy*100)"
            ],
            "outputs": [
                {
                    "output_type": "stream",
                    "name": "stdout",
                    "text": [
                        "95.0467706013363\n"
                    ]
                }
            ],
            "metadata": {}
        },
        {
            "cell_type": "code",
            "execution_count": 25,
            "source": [
                "disp = plot_confusion_matrix(Lr, xv_test, y_test, cmap = 'Blues', values_format='d')"
            ],
            "outputs": [
                {
                    "output_type": "display_data",
                    "data": {
                        "text/plain": [
                            "<Figure size 432x288 with 2 Axes>"
                        ],
                        "image/png": "[encoded data removed]"
                    },
                    "metadata": {
                        "needs_background": "light"
                    }
                }
            ],
            "metadata": {}
        },
        {
            "cell_type": "code",
            "execution_count": 26,
            "source": [
                "from sklearn.naive_bayes import MultinomialNB\r\n",
                "\r\n",
                "\r\n",
                "Nb = MultinomialNB()\r\n",
                "Nb.fit(xv_train, y_train)\r\n",
                "accuracy = Nb.score(xv_test, y_test)\r\n",
                "\r\n",
                "print(accuracy*100)"
            ],
            "outputs": [
                {
                    "output_type": "stream",
                    "name": "stdout",
                    "text": [
                        "93.88864142538975\n"
                    ]
                }
            ],
            "metadata": {}
        },
        {
            "cell_type": "code",
            "execution_count": 27,
            "source": [
                "dis = plot_confusion_matrix(Nb, xv_test, y_test, cmap = 'Blues', values_format='d')"
            ],
            "outputs": [
                {
                    "output_type": "display_data",
                    "data": {
                        "text/plain": [
                            "<Figure size 432x288 with 2 Axes>"
                        ],
                        "image/png": "[encoded data removed]"
                    },
                    "metadata": {
                        "needs_background": "light"
                    }
                }
            ],
            "metadata": {}
        },
        {
            "cell_type": "code",
            "execution_count": 28,
            "source": [
                "from sklearn.tree import DecisionTreeClassifier\r\n",
                "\r\n",
                "\r\n",
                "Dt = DecisionTreeClassifier()\r\n",
                "Dt.fit(xv_train, y_train)\r\n",
                "accuracy = Dt.score(xv_test, y_test)\r\n",
                "\r\n",
                "print(accuracy*100)"
            ],
            "outputs": [
                {
                    "output_type": "stream",
                    "name": "stdout",
                    "text": [
                        "90.99331848552339\n"
                    ]
                }
            ],
            "metadata": {}
        },
        {
            "cell_type": "code",
            "execution_count": 29,
            "source": [
                "dis = plot_confusion_matrix(Dt, xv_test, y_test, cmap = 'Blues', values_format='d')"
            ],
            "outputs": [
                {
                    "output_type": "display_data",
                    "data": {
                        "text/plain": [
                            "<Figure size 432x288 with 2 Axes>"
                        ],
                        "image/png": "[encoded data removed]"
                    },
                    "metadata": {
                        "needs_background": "light"
                    }
                }
            ],
            "metadata": {}
        },
        {
            "cell_type": "code",
            "execution_count": 30,
            "source": [
                "# PASSIVE-AGGRESSIVE CLASSIFIER\r\n",
                "\r\n",
                "from sklearn.metrics import accuracy_score\r\n",
                "\r\n",
                "from sklearn.linear_model import PassiveAggressiveClassifier\r\n",
                "\r\n",
                "#DataFlair - Initialize a PassiveAggressiveClassifier\r\n",
                "pac=PassiveAggressiveClassifier(max_iter=50)\r\n",
                "pac.fit(xv_train,y_train)\r\n",
                "#DataFlair - Predict on the test set and calculate accuracy\r\n",
                "y_pred=pac.predict(xv_test)\r\n",
                "accuracy=accuracy_score(y_test,y_pred)\r\n",
                "\r\n",
                "print(accuracy*100)"
            ],
            "outputs": [
                {
                    "output_type": "stream",
                    "name": "stdout",
                    "text": [
                        "94.94877505567929\n"
                    ]
                }
            ],
            "metadata": {}
        },
        {
            "cell_type": "code",
            "execution_count": 31,
            "source": [
                "dis = plot_confusion_matrix(pac, xv_test, y_test, cmap = 'Blues', values_format='d')"
            ],
            "outputs": [
                {
                    "output_type": "display_data",
                    "data": {
                        "text/plain": [
                            "<Figure size 432x288 with 2 Axes>"
                        ],
                        "image/png": "[encoded data removed]"
                    },
                    "metadata": {
                        "needs_background": "light"
                    }
                }
            ],
            "metadata": {}
        },
        {
            "cell_type": "code",
            "execution_count": 32,
            "source": [
                "from sklearn.ensemble import RandomForestClassifier\r\n",
                "Rfc = RandomForestClassifier(random_state=0)\r\n",
                "Rfc.fit(xv_train, y_train)\r\n",
                "predict_Rfc = Rfc.predict(xv_test)\r\n",
                "accuracy = Rfc.score(xv_test, y_test)\r\n",
                "\r\n",
                "print(accuracy*100)"
            ],
            "outputs": [
                {
                    "output_type": "stream",
                    "name": "stdout",
                    "text": [
                        "95.08240534521158\n"
                    ]
                }
            ],
            "metadata": {}
        },
        {
            "cell_type": "code",
            "execution_count": 33,
            "source": [
                "dis = plot_confusion_matrix(Rfc, xv_test, y_test, cmap = 'Blues', values_format='d')"
            ],
            "outputs": [
                {
                    "output_type": "display_data",
                    "data": {
                        "text/plain": [
                            "<Figure size 432x288 with 2 Axes>"
                        ],
                        "image/png": "[encoded data removed]"
                    },
                    "metadata": {
                        "needs_background": "light"
                    }
                }
            ],
            "metadata": {}
        },
        {
            "cell_type": "code",
            "execution_count": 34,
            "source": [
                "from sklearn.svm import LinearSVC\r\n",
                "\r\n",
                "clf = LinearSVC(random_state=0, tol=1e-5)\r\n",
                "clf.fit(xv_train,y_train)\r\n",
                "y_pred=clf.predict(xv_test)\r\n",
                "accuracy=accuracy_score(y_test,y_pred)\r\n",
                "\r\n",
                "print(accuracy*100)"
            ],
            "outputs": [
                {
                    "output_type": "stream",
                    "name": "stdout",
                    "text": [
                        "95.87527839643653\n"
                    ]
                }
            ],
            "metadata": {}
        },
        {
            "cell_type": "code",
            "execution_count": 35,
            "source": [
                "dis = plot_confusion_matrix(clf, xv_test, y_test, cmap = 'Blues', values_format='d')"
            ],
            "outputs": [
                {
                    "output_type": "display_data",
                    "data": {
                        "text/plain": [
                            "<Figure size 432x288 with 2 Axes>"
                        ],
                        "image/png": "[encoded data removed]"
                    },
                    "metadata": {
                        "needs_background": "light"
                    }
                }
            ],
            "metadata": {}
        },
        {
            "cell_type": "code",
            "execution_count": 36,
            "source": [
                "import pickle\r\n",
                "\r\n",
                "with open(\"modal\",'wb') as f:\r\n",
                "    pickle.dump(clf,f)"
            ],
            "outputs": [],
            "metadata": {}
        }
    ],
    "metadata": {
        "orig_nbformat": 4,
        "language_info": {
            "name": "python",
            "version": "3.9.6",
            "mimetype": "text/x-python",
            "codemirror_mode": {
                "name": "ipython",
                "version": 3
            },
            "pygments_lexer": "ipython3",
            "nbconvert_exporter": "python",
            "file_extension": ".py"
        },
        "kernelspec": {
            "name": "python3",
            "display_name": "Python 3.9.6 64-bit"
        },
        "interpreter": {
            "hash": "ac59ebe37160ed0dfa835113d9b8498d9f09ceb179beaac4002f036b9467c963"
        }
    },
    "nbformat": 4,
    "nbformat_minor": 2
}