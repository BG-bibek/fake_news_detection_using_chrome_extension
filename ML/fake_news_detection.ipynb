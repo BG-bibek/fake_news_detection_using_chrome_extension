{
    "cells": [
        {
            "cell_type": "code",
            "execution_count": 157,
            "source": [
                "import pandas as pd\r\n",
                "import numpy as np\r\n",
                "import seaborn as sns\r\n",
                "import matplotlib.pyplot as plt\r\n",
                "from sklearn.model_selection import train_test_split\r\n",
                "from sklearn.metrics import accuracy_score\r\n",
                "from sklearn.metrics import classification_report\r\n",
                "import re\r\n",
                "import string"
            ],
            "outputs": [],
            "metadata": {}
        },
        {
            "cell_type": "code",
            "execution_count": 158,
            "source": [
                "df_fake = pd.read_csv(\"Fake.csv\")\r\n",
                "df_true = pd.read_csv(\"True.csv\")\r\n"
            ],
            "outputs": [],
            "metadata": {}
        },
        {
            "cell_type": "code",
            "execution_count": 159,
            "source": [
                "df_fake.head(5)"
            ],
            "outputs": [
                {
                    "output_type": "execute_result",
                    "data": {
                        "text/plain": [
                            "                                               title  \\\n",
                            "0   Donald Trump Sends Out Embarrassing New Year’...   \n",
                            "1   Drunk Bragging Trump Staffer Started Russian ...   \n",
                            "2   Sheriff David Clarke Becomes An Internet Joke...   \n",
                            "3   Trump Is So Obsessed He Even Has Obama’s Name...   \n",
                            "4   Pope Francis Just Called Out Donald Trump Dur...   \n",
                            "\n",
                            "                                                text subject  \\\n",
                            "0  Donald Trump just couldn t wish all Americans ...    News   \n",
                            "1  House Intelligence Committee Chairman Devin Nu...    News   \n",
                            "2  On Friday, it was revealed that former Milwauk...    News   \n",
                            "3  On Christmas day, Donald Trump announced that ...    News   \n",
                            "4  Pope Francis used his annual Christmas Day mes...    News   \n",
                            "\n",
                            "                date  \n",
                            "0  December 31, 2017  \n",
                            "1  December 31, 2017  \n",
                            "2  December 30, 2017  \n",
                            "3  December 29, 2017  \n",
                            "4  December 25, 2017  "
                        ],
                        "text/html": [
                            "<div>\n",
                            "<style scoped>\n",
                            "    .dataframe tbody tr th:only-of-type {\n",
                            "        vertical-align: middle;\n",
                            "    }\n",
                            "\n",
                            "    .dataframe tbody tr th {\n",
                            "        vertical-align: top;\n",
                            "    }\n",
                            "\n",
                            "    .dataframe thead th {\n",
                            "        text-align: right;\n",
                            "    }\n",
                            "</style>\n",
                            "<table border=\"1\" class=\"dataframe\">\n",
                            "  <thead>\n",
                            "    <tr style=\"text-align: right;\">\n",
                            "      <th></th>\n",
                            "      <th>title</th>\n",
                            "      <th>text</th>\n",
                            "      <th>subject</th>\n",
                            "      <th>date</th>\n",
                            "    </tr>\n",
                            "  </thead>\n",
                            "  <tbody>\n",
                            "    <tr>\n",
                            "      <th>0</th>\n",
                            "      <td>Donald Trump Sends Out Embarrassing New Year’...</td>\n",
                            "      <td>Donald Trump just couldn t wish all Americans ...</td>\n",
                            "      <td>News</td>\n",
                            "      <td>December 31, 2017</td>\n",
                            "    </tr>\n",
                            "    <tr>\n",
                            "      <th>1</th>\n",
                            "      <td>Drunk Bragging Trump Staffer Started Russian ...</td>\n",
                            "      <td>House Intelligence Committee Chairman Devin Nu...</td>\n",
                            "      <td>News</td>\n",
                            "      <td>December 31, 2017</td>\n",
                            "    </tr>\n",
                            "    <tr>\n",
                            "      <th>2</th>\n",
                            "      <td>Sheriff David Clarke Becomes An Internet Joke...</td>\n",
                            "      <td>On Friday, it was revealed that former Milwauk...</td>\n",
                            "      <td>News</td>\n",
                            "      <td>December 30, 2017</td>\n",
                            "    </tr>\n",
                            "    <tr>\n",
                            "      <th>3</th>\n",
                            "      <td>Trump Is So Obsessed He Even Has Obama’s Name...</td>\n",
                            "      <td>On Christmas day, Donald Trump announced that ...</td>\n",
                            "      <td>News</td>\n",
                            "      <td>December 29, 2017</td>\n",
                            "    </tr>\n",
                            "    <tr>\n",
                            "      <th>4</th>\n",
                            "      <td>Pope Francis Just Called Out Donald Trump Dur...</td>\n",
                            "      <td>Pope Francis used his annual Christmas Day mes...</td>\n",
                            "      <td>News</td>\n",
                            "      <td>December 25, 2017</td>\n",
                            "    </tr>\n",
                            "  </tbody>\n",
                            "</table>\n",
                            "</div>"
                        ]
                    },
                    "metadata": {},
                    "execution_count": 159
                }
            ],
            "metadata": {}
        },
        {
            "cell_type": "code",
            "execution_count": 160,
            "source": [
                "df_true.head(5)"
            ],
            "outputs": [
                {
                    "output_type": "execute_result",
                    "data": {
                        "text/plain": [
                            "                                               title  \\\n",
                            "0  As U.S. budget fight looms, Republicans flip t...   \n",
                            "1  U.S. military to accept transgender recruits o...   \n",
                            "2  Senior U.S. Republican senator: 'Let Mr. Muell...   \n",
                            "3  FBI Russia probe helped by Australian diplomat...   \n",
                            "4  Trump wants Postal Service to charge 'much mor...   \n",
                            "\n",
                            "                                                text       subject  \\\n",
                            "0  WASHINGTON (Reuters) - The head of a conservat...  politicsNews   \n",
                            "1  WASHINGTON (Reuters) - Transgender people will...  politicsNews   \n",
                            "2  WASHINGTON (Reuters) - The special counsel inv...  politicsNews   \n",
                            "3  WASHINGTON (Reuters) - Trump campaign adviser ...  politicsNews   \n",
                            "4  SEATTLE/WASHINGTON (Reuters) - President Donal...  politicsNews   \n",
                            "\n",
                            "                 date  \n",
                            "0  December 31, 2017   \n",
                            "1  December 29, 2017   \n",
                            "2  December 31, 2017   \n",
                            "3  December 30, 2017   \n",
                            "4  December 29, 2017   "
                        ],
                        "text/html": [
                            "<div>\n",
                            "<style scoped>\n",
                            "    .dataframe tbody tr th:only-of-type {\n",
                            "        vertical-align: middle;\n",
                            "    }\n",
                            "\n",
                            "    .dataframe tbody tr th {\n",
                            "        vertical-align: top;\n",
                            "    }\n",
                            "\n",
                            "    .dataframe thead th {\n",
                            "        text-align: right;\n",
                            "    }\n",
                            "</style>\n",
                            "<table border=\"1\" class=\"dataframe\">\n",
                            "  <thead>\n",
                            "    <tr style=\"text-align: right;\">\n",
                            "      <th></th>\n",
                            "      <th>title</th>\n",
                            "      <th>text</th>\n",
                            "      <th>subject</th>\n",
                            "      <th>date</th>\n",
                            "    </tr>\n",
                            "  </thead>\n",
                            "  <tbody>\n",
                            "    <tr>\n",
                            "      <th>0</th>\n",
                            "      <td>As U.S. budget fight looms, Republicans flip t...</td>\n",
                            "      <td>WASHINGTON (Reuters) - The head of a conservat...</td>\n",
                            "      <td>politicsNews</td>\n",
                            "      <td>December 31, 2017</td>\n",
                            "    </tr>\n",
                            "    <tr>\n",
                            "      <th>1</th>\n",
                            "      <td>U.S. military to accept transgender recruits o...</td>\n",
                            "      <td>WASHINGTON (Reuters) - Transgender people will...</td>\n",
                            "      <td>politicsNews</td>\n",
                            "      <td>December 29, 2017</td>\n",
                            "    </tr>\n",
                            "    <tr>\n",
                            "      <th>2</th>\n",
                            "      <td>Senior U.S. Republican senator: 'Let Mr. Muell...</td>\n",
                            "      <td>WASHINGTON (Reuters) - The special counsel inv...</td>\n",
                            "      <td>politicsNews</td>\n",
                            "      <td>December 31, 2017</td>\n",
                            "    </tr>\n",
                            "    <tr>\n",
                            "      <th>3</th>\n",
                            "      <td>FBI Russia probe helped by Australian diplomat...</td>\n",
                            "      <td>WASHINGTON (Reuters) - Trump campaign adviser ...</td>\n",
                            "      <td>politicsNews</td>\n",
                            "      <td>December 30, 2017</td>\n",
                            "    </tr>\n",
                            "    <tr>\n",
                            "      <th>4</th>\n",
                            "      <td>Trump wants Postal Service to charge 'much mor...</td>\n",
                            "      <td>SEATTLE/WASHINGTON (Reuters) - President Donal...</td>\n",
                            "      <td>politicsNews</td>\n",
                            "      <td>December 29, 2017</td>\n",
                            "    </tr>\n",
                            "  </tbody>\n",
                            "</table>\n",
                            "</div>"
                        ]
                    },
                    "metadata": {},
                    "execution_count": 160
                }
            ],
            "metadata": {}
        },
        {
            "cell_type": "code",
            "execution_count": 161,
            "source": [
                "df_fake[\"label\"] = \"FAKE\"\r\n",
                "df_true[\"label\"] = \"TRUE\"\r\n",
                "df_true.head(5)\r\n"
            ],
            "outputs": [
                {
                    "output_type": "execute_result",
                    "data": {
                        "text/plain": [
                            "                                               title  \\\n",
                            "0  As U.S. budget fight looms, Republicans flip t...   \n",
                            "1  U.S. military to accept transgender recruits o...   \n",
                            "2  Senior U.S. Republican senator: 'Let Mr. Muell...   \n",
                            "3  FBI Russia probe helped by Australian diplomat...   \n",
                            "4  Trump wants Postal Service to charge 'much mor...   \n",
                            "\n",
                            "                                                text       subject  \\\n",
                            "0  WASHINGTON (Reuters) - The head of a conservat...  politicsNews   \n",
                            "1  WASHINGTON (Reuters) - Transgender people will...  politicsNews   \n",
                            "2  WASHINGTON (Reuters) - The special counsel inv...  politicsNews   \n",
                            "3  WASHINGTON (Reuters) - Trump campaign adviser ...  politicsNews   \n",
                            "4  SEATTLE/WASHINGTON (Reuters) - President Donal...  politicsNews   \n",
                            "\n",
                            "                 date label  \n",
                            "0  December 31, 2017   TRUE  \n",
                            "1  December 29, 2017   TRUE  \n",
                            "2  December 31, 2017   TRUE  \n",
                            "3  December 30, 2017   TRUE  \n",
                            "4  December 29, 2017   TRUE  "
                        ],
                        "text/html": [
                            "<div>\n",
                            "<style scoped>\n",
                            "    .dataframe tbody tr th:only-of-type {\n",
                            "        vertical-align: middle;\n",
                            "    }\n",
                            "\n",
                            "    .dataframe tbody tr th {\n",
                            "        vertical-align: top;\n",
                            "    }\n",
                            "\n",
                            "    .dataframe thead th {\n",
                            "        text-align: right;\n",
                            "    }\n",
                            "</style>\n",
                            "<table border=\"1\" class=\"dataframe\">\n",
                            "  <thead>\n",
                            "    <tr style=\"text-align: right;\">\n",
                            "      <th></th>\n",
                            "      <th>title</th>\n",
                            "      <th>text</th>\n",
                            "      <th>subject</th>\n",
                            "      <th>date</th>\n",
                            "      <th>label</th>\n",
                            "    </tr>\n",
                            "  </thead>\n",
                            "  <tbody>\n",
                            "    <tr>\n",
                            "      <th>0</th>\n",
                            "      <td>As U.S. budget fight looms, Republicans flip t...</td>\n",
                            "      <td>WASHINGTON (Reuters) - The head of a conservat...</td>\n",
                            "      <td>politicsNews</td>\n",
                            "      <td>December 31, 2017</td>\n",
                            "      <td>TRUE</td>\n",
                            "    </tr>\n",
                            "    <tr>\n",
                            "      <th>1</th>\n",
                            "      <td>U.S. military to accept transgender recruits o...</td>\n",
                            "      <td>WASHINGTON (Reuters) - Transgender people will...</td>\n",
                            "      <td>politicsNews</td>\n",
                            "      <td>December 29, 2017</td>\n",
                            "      <td>TRUE</td>\n",
                            "    </tr>\n",
                            "    <tr>\n",
                            "      <th>2</th>\n",
                            "      <td>Senior U.S. Republican senator: 'Let Mr. Muell...</td>\n",
                            "      <td>WASHINGTON (Reuters) - The special counsel inv...</td>\n",
                            "      <td>politicsNews</td>\n",
                            "      <td>December 31, 2017</td>\n",
                            "      <td>TRUE</td>\n",
                            "    </tr>\n",
                            "    <tr>\n",
                            "      <th>3</th>\n",
                            "      <td>FBI Russia probe helped by Australian diplomat...</td>\n",
                            "      <td>WASHINGTON (Reuters) - Trump campaign adviser ...</td>\n",
                            "      <td>politicsNews</td>\n",
                            "      <td>December 30, 2017</td>\n",
                            "      <td>TRUE</td>\n",
                            "    </tr>\n",
                            "    <tr>\n",
                            "      <th>4</th>\n",
                            "      <td>Trump wants Postal Service to charge 'much mor...</td>\n",
                            "      <td>SEATTLE/WASHINGTON (Reuters) - President Donal...</td>\n",
                            "      <td>politicsNews</td>\n",
                            "      <td>December 29, 2017</td>\n",
                            "      <td>TRUE</td>\n",
                            "    </tr>\n",
                            "  </tbody>\n",
                            "</table>\n",
                            "</div>"
                        ]
                    },
                    "metadata": {},
                    "execution_count": 161
                }
            ],
            "metadata": {}
        },
        {
            "cell_type": "code",
            "execution_count": 162,
            "source": [
                "df_fake.shape, df_true.shape\r\n"
            ],
            "outputs": [
                {
                    "output_type": "execute_result",
                    "data": {
                        "text/plain": [
                            "((23481, 5), (21417, 5))"
                        ]
                    },
                    "metadata": {},
                    "execution_count": 162
                }
            ],
            "metadata": {}
        },
        {
            "cell_type": "code",
            "execution_count": 163,
            "source": [
                "df_combine = pd.concat([df_fake, df_true], axis =0 )\r\n",
                "df_combine.head(10)"
            ],
            "outputs": [
                {
                    "output_type": "execute_result",
                    "data": {
                        "text/plain": [
                            "                                               title  \\\n",
                            "0   Donald Trump Sends Out Embarrassing New Year’...   \n",
                            "1   Drunk Bragging Trump Staffer Started Russian ...   \n",
                            "2   Sheriff David Clarke Becomes An Internet Joke...   \n",
                            "3   Trump Is So Obsessed He Even Has Obama’s Name...   \n",
                            "4   Pope Francis Just Called Out Donald Trump Dur...   \n",
                            "5   Racist Alabama Cops Brutalize Black Boy While...   \n",
                            "6   Fresh Off The Golf Course, Trump Lashes Out A...   \n",
                            "7   Trump Said Some INSANELY Racist Stuff Inside ...   \n",
                            "8   Former CIA Director Slams Trump Over UN Bully...   \n",
                            "9   WATCH: Brand-New Pro-Trump Ad Features So Muc...   \n",
                            "\n",
                            "                                                text subject  \\\n",
                            "0  Donald Trump just couldn t wish all Americans ...    News   \n",
                            "1  House Intelligence Committee Chairman Devin Nu...    News   \n",
                            "2  On Friday, it was revealed that former Milwauk...    News   \n",
                            "3  On Christmas day, Donald Trump announced that ...    News   \n",
                            "4  Pope Francis used his annual Christmas Day mes...    News   \n",
                            "5  The number of cases of cops brutalizing and ki...    News   \n",
                            "6  Donald Trump spent a good portion of his day a...    News   \n",
                            "7  In the wake of yet another court decision that...    News   \n",
                            "8  Many people have raised the alarm regarding th...    News   \n",
                            "9  Just when you might have thought we d get a br...    News   \n",
                            "\n",
                            "                date label  \n",
                            "0  December 31, 2017  FAKE  \n",
                            "1  December 31, 2017  FAKE  \n",
                            "2  December 30, 2017  FAKE  \n",
                            "3  December 29, 2017  FAKE  \n",
                            "4  December 25, 2017  FAKE  \n",
                            "5  December 25, 2017  FAKE  \n",
                            "6  December 23, 2017  FAKE  \n",
                            "7  December 23, 2017  FAKE  \n",
                            "8  December 22, 2017  FAKE  \n",
                            "9  December 21, 2017  FAKE  "
                        ],
                        "text/html": [
                            "<div>\n",
                            "<style scoped>\n",
                            "    .dataframe tbody tr th:only-of-type {\n",
                            "        vertical-align: middle;\n",
                            "    }\n",
                            "\n",
                            "    .dataframe tbody tr th {\n",
                            "        vertical-align: top;\n",
                            "    }\n",
                            "\n",
                            "    .dataframe thead th {\n",
                            "        text-align: right;\n",
                            "    }\n",
                            "</style>\n",
                            "<table border=\"1\" class=\"dataframe\">\n",
                            "  <thead>\n",
                            "    <tr style=\"text-align: right;\">\n",
                            "      <th></th>\n",
                            "      <th>title</th>\n",
                            "      <th>text</th>\n",
                            "      <th>subject</th>\n",
                            "      <th>date</th>\n",
                            "      <th>label</th>\n",
                            "    </tr>\n",
                            "  </thead>\n",
                            "  <tbody>\n",
                            "    <tr>\n",
                            "      <th>0</th>\n",
                            "      <td>Donald Trump Sends Out Embarrassing New Year’...</td>\n",
                            "      <td>Donald Trump just couldn t wish all Americans ...</td>\n",
                            "      <td>News</td>\n",
                            "      <td>December 31, 2017</td>\n",
                            "      <td>FAKE</td>\n",
                            "    </tr>\n",
                            "    <tr>\n",
                            "      <th>1</th>\n",
                            "      <td>Drunk Bragging Trump Staffer Started Russian ...</td>\n",
                            "      <td>House Intelligence Committee Chairman Devin Nu...</td>\n",
                            "      <td>News</td>\n",
                            "      <td>December 31, 2017</td>\n",
                            "      <td>FAKE</td>\n",
                            "    </tr>\n",
                            "    <tr>\n",
                            "      <th>2</th>\n",
                            "      <td>Sheriff David Clarke Becomes An Internet Joke...</td>\n",
                            "      <td>On Friday, it was revealed that former Milwauk...</td>\n",
                            "      <td>News</td>\n",
                            "      <td>December 30, 2017</td>\n",
                            "      <td>FAKE</td>\n",
                            "    </tr>\n",
                            "    <tr>\n",
                            "      <th>3</th>\n",
                            "      <td>Trump Is So Obsessed He Even Has Obama’s Name...</td>\n",
                            "      <td>On Christmas day, Donald Trump announced that ...</td>\n",
                            "      <td>News</td>\n",
                            "      <td>December 29, 2017</td>\n",
                            "      <td>FAKE</td>\n",
                            "    </tr>\n",
                            "    <tr>\n",
                            "      <th>4</th>\n",
                            "      <td>Pope Francis Just Called Out Donald Trump Dur...</td>\n",
                            "      <td>Pope Francis used his annual Christmas Day mes...</td>\n",
                            "      <td>News</td>\n",
                            "      <td>December 25, 2017</td>\n",
                            "      <td>FAKE</td>\n",
                            "    </tr>\n",
                            "    <tr>\n",
                            "      <th>5</th>\n",
                            "      <td>Racist Alabama Cops Brutalize Black Boy While...</td>\n",
                            "      <td>The number of cases of cops brutalizing and ki...</td>\n",
                            "      <td>News</td>\n",
                            "      <td>December 25, 2017</td>\n",
                            "      <td>FAKE</td>\n",
                            "    </tr>\n",
                            "    <tr>\n",
                            "      <th>6</th>\n",
                            "      <td>Fresh Off The Golf Course, Trump Lashes Out A...</td>\n",
                            "      <td>Donald Trump spent a good portion of his day a...</td>\n",
                            "      <td>News</td>\n",
                            "      <td>December 23, 2017</td>\n",
                            "      <td>FAKE</td>\n",
                            "    </tr>\n",
                            "    <tr>\n",
                            "      <th>7</th>\n",
                            "      <td>Trump Said Some INSANELY Racist Stuff Inside ...</td>\n",
                            "      <td>In the wake of yet another court decision that...</td>\n",
                            "      <td>News</td>\n",
                            "      <td>December 23, 2017</td>\n",
                            "      <td>FAKE</td>\n",
                            "    </tr>\n",
                            "    <tr>\n",
                            "      <th>8</th>\n",
                            "      <td>Former CIA Director Slams Trump Over UN Bully...</td>\n",
                            "      <td>Many people have raised the alarm regarding th...</td>\n",
                            "      <td>News</td>\n",
                            "      <td>December 22, 2017</td>\n",
                            "      <td>FAKE</td>\n",
                            "    </tr>\n",
                            "    <tr>\n",
                            "      <th>9</th>\n",
                            "      <td>WATCH: Brand-New Pro-Trump Ad Features So Muc...</td>\n",
                            "      <td>Just when you might have thought we d get a br...</td>\n",
                            "      <td>News</td>\n",
                            "      <td>December 21, 2017</td>\n",
                            "      <td>FAKE</td>\n",
                            "    </tr>\n",
                            "  </tbody>\n",
                            "</table>\n",
                            "</div>"
                        ]
                    },
                    "metadata": {},
                    "execution_count": 163
                }
            ],
            "metadata": {}
        },
        {
            "cell_type": "code",
            "execution_count": 164,
            "source": [
                "df_combine.columns\r\n"
            ],
            "outputs": [
                {
                    "output_type": "execute_result",
                    "data": {
                        "text/plain": [
                            "Index(['title', 'text', 'subject', 'date', 'label'], dtype='object')"
                        ]
                    },
                    "metadata": {},
                    "execution_count": 164
                }
            ],
            "metadata": {}
        },
        {
            "cell_type": "code",
            "execution_count": 165,
            "source": [
                "df = df_combine.drop([\"text\", \"subject\",\"date\"], axis = 1)\r\n",
                "df.head()"
            ],
            "outputs": [
                {
                    "output_type": "execute_result",
                    "data": {
                        "text/plain": [
                            "                                               title label\n",
                            "0   Donald Trump Sends Out Embarrassing New Year’...  FAKE\n",
                            "1   Drunk Bragging Trump Staffer Started Russian ...  FAKE\n",
                            "2   Sheriff David Clarke Becomes An Internet Joke...  FAKE\n",
                            "3   Trump Is So Obsessed He Even Has Obama’s Name...  FAKE\n",
                            "4   Pope Francis Just Called Out Donald Trump Dur...  FAKE"
                        ],
                        "text/html": [
                            "<div>\n",
                            "<style scoped>\n",
                            "    .dataframe tbody tr th:only-of-type {\n",
                            "        vertical-align: middle;\n",
                            "    }\n",
                            "\n",
                            "    .dataframe tbody tr th {\n",
                            "        vertical-align: top;\n",
                            "    }\n",
                            "\n",
                            "    .dataframe thead th {\n",
                            "        text-align: right;\n",
                            "    }\n",
                            "</style>\n",
                            "<table border=\"1\" class=\"dataframe\">\n",
                            "  <thead>\n",
                            "    <tr style=\"text-align: right;\">\n",
                            "      <th></th>\n",
                            "      <th>title</th>\n",
                            "      <th>label</th>\n",
                            "    </tr>\n",
                            "  </thead>\n",
                            "  <tbody>\n",
                            "    <tr>\n",
                            "      <th>0</th>\n",
                            "      <td>Donald Trump Sends Out Embarrassing New Year’...</td>\n",
                            "      <td>FAKE</td>\n",
                            "    </tr>\n",
                            "    <tr>\n",
                            "      <th>1</th>\n",
                            "      <td>Drunk Bragging Trump Staffer Started Russian ...</td>\n",
                            "      <td>FAKE</td>\n",
                            "    </tr>\n",
                            "    <tr>\n",
                            "      <th>2</th>\n",
                            "      <td>Sheriff David Clarke Becomes An Internet Joke...</td>\n",
                            "      <td>FAKE</td>\n",
                            "    </tr>\n",
                            "    <tr>\n",
                            "      <th>3</th>\n",
                            "      <td>Trump Is So Obsessed He Even Has Obama’s Name...</td>\n",
                            "      <td>FAKE</td>\n",
                            "    </tr>\n",
                            "    <tr>\n",
                            "      <th>4</th>\n",
                            "      <td>Pope Francis Just Called Out Donald Trump Dur...</td>\n",
                            "      <td>FAKE</td>\n",
                            "    </tr>\n",
                            "  </tbody>\n",
                            "</table>\n",
                            "</div>"
                        ]
                    },
                    "metadata": {},
                    "execution_count": 165
                }
            ],
            "metadata": {}
        },
        {
            "cell_type": "code",
            "execution_count": 166,
            "source": [
                "df.isnull().sum()"
            ],
            "outputs": [
                {
                    "output_type": "execute_result",
                    "data": {
                        "text/plain": [
                            "title    0\n",
                            "label    0\n",
                            "dtype: int64"
                        ]
                    },
                    "metadata": {},
                    "execution_count": 166
                }
            ],
            "metadata": {}
        },
        {
            "cell_type": "code",
            "execution_count": 167,
            "source": [
                "df = df.sample(frac = 1)  \r\n",
                "print(df)"
            ],
            "outputs": [
                {
                    "output_type": "stream",
                    "name": "stdout",
                    "text": [
                        "                                                   title label\n",
                        "491     Disgusting Trump Is Using Hurricane As An Opp...  FAKE\n",
                        "20462  B*TCH OF BENGHAZI WINS Democrat Nomination” I’...  FAKE\n",
                        "17377  Islamic State claims two rockets fired from Si...  TRUE\n",
                        "1098    Embarrassing: Watch Trump Attorney Gets Grill...  FAKE\n",
                        "3871   U.S. Republican Graham curious on Trump busine...  TRUE\n",
                        "...                                                  ...   ...\n",
                        "10052  DEMOCRAT LEGAL EXPERT Shocks The Left With His...  FAKE\n",
                        "9398   State Department was not doing enough on email...  TRUE\n",
                        "15916  LAWYER FOR FBI INFORMANT Knows of Russian Brib...  FAKE\n",
                        "3936   U.S. House passes bill to fund government thro...  TRUE\n",
                        "19696  BREAKING: OBAMA APPOINTED JUDGE Demands RNC Re...  FAKE\n",
                        "\n",
                        "[44898 rows x 2 columns]\n"
                    ]
                }
            ],
            "metadata": {}
        },
        {
            "cell_type": "code",
            "execution_count": 168,
            "source": [
                "df.reset_index(inplace = True)\r\n",
                "df.drop([\"index\"], axis = 1, inplace = True)\r\n",
                "print(df)"
            ],
            "outputs": [
                {
                    "output_type": "stream",
                    "name": "stdout",
                    "text": [
                        "                                                   title label\n",
                        "0       Disgusting Trump Is Using Hurricane As An Opp...  FAKE\n",
                        "1      B*TCH OF BENGHAZI WINS Democrat Nomination” I’...  FAKE\n",
                        "2      Islamic State claims two rockets fired from Si...  TRUE\n",
                        "3       Embarrassing: Watch Trump Attorney Gets Grill...  FAKE\n",
                        "4      U.S. Republican Graham curious on Trump busine...  TRUE\n",
                        "...                                                  ...   ...\n",
                        "44893  DEMOCRAT LEGAL EXPERT Shocks The Left With His...  FAKE\n",
                        "44894  State Department was not doing enough on email...  TRUE\n",
                        "44895  LAWYER FOR FBI INFORMANT Knows of Russian Brib...  FAKE\n",
                        "44896  U.S. House passes bill to fund government thro...  TRUE\n",
                        "44897  BREAKING: OBAMA APPOINTED JUDGE Demands RNC Re...  FAKE\n",
                        "\n",
                        "[44898 rows x 2 columns]\n"
                    ]
                }
            ],
            "metadata": {}
        },
        {
            "cell_type": "code",
            "execution_count": 169,
            "source": [
                "def removeRegularExp(text): #regular expression\r\n",
                "    text = text.lower()\r\n",
                "    text = re.sub('\\[.*?\\]', '', text)\r\n",
                "    text = re.sub(\"\\\\W\",\" \",text) \r\n",
                "    text = re.sub('https?://\\S+|www\\.\\S+', '', text)\r\n",
                "    text = re.sub('<.*?>+', '', text) #remove fullstop\r\n",
                "    text = re.sub('[%s]' % re.escape(string.punctuation), '', text)\r\n",
                "    text = re.sub('\\n', '', text)\r\n",
                "    text = re.sub('\\w*\\d\\w*', '', text)    \r\n",
                "    return text"
            ],
            "outputs": [],
            "metadata": {}
        },
        {
            "cell_type": "code",
            "execution_count": 170,
            "source": [
                "\r\n",
                "df[\"title\"] = df[\"title\"].apply(removeRegularExp)\r\n"
            ],
            "outputs": [],
            "metadata": {}
        },
        {
            "cell_type": "code",
            "execution_count": 171,
            "source": [
                "x = df[\"title\"]\r\n",
                "y = df[\"label\"]\r\n",
                "print(x)"
            ],
            "outputs": [
                {
                    "output_type": "stream",
                    "name": "stdout",
                    "text": [
                        "0         disgusting trump is using hurricane as an opp...\n",
                        "1        b tch of benghazi wins democrat nomination  i ...\n",
                        "2        islamic state claims two rockets fired from si...\n",
                        "3         embarrassing  watch trump attorney gets grill...\n",
                        "4        u s  republican graham curious on trump busine...\n",
                        "                               ...                        \n",
                        "44893    democrat legal expert shocks the left with his...\n",
                        "44894    state department was not doing enough on email...\n",
                        "44895    lawyer for fbi informant knows of russian brib...\n",
                        "44896    u s  house passes bill to fund government thro...\n",
                        "44897    breaking  obama appointed judge demands rnc re...\n",
                        "Name: title, Length: 44898, dtype: object\n"
                    ]
                }
            ],
            "metadata": {}
        },
        {
            "cell_type": "code",
            "execution_count": 172,
            "source": [
                "df['label'].value_counts().plot(kind = 'bar')"
            ],
            "outputs": [
                {
                    "output_type": "execute_result",
                    "data": {
                        "text/plain": [
                            "<AxesSubplot:>"
                        ]
                    },
                    "metadata": {},
                    "execution_count": 172
                },
                {
                    "output_type": "display_data",
                    "data": {
                        "text/plain": [
                            "<Figure size 432x288 with 1 Axes>"
                        ],
                        "image/png": "[encoded data removed]"
                    },
                    "metadata": {
                        "needs_background": "light"
                    }
                }
            ],
            "metadata": {}
        },
        {
            "cell_type": "code",
            "execution_count": 173,
            "source": [
                "x_train, x_test, y_train, y_test = train_test_split(x, y, test_size=0.25, random_state = 0) "
            ],
            "outputs": [],
            "metadata": {}
        },
        {
            "cell_type": "code",
            "execution_count": 174,
            "source": [
                "from sklearn.feature_extraction.text import TfidfVectorizer\r\n"
            ],
            "outputs": [],
            "metadata": {}
        },
        {
            "cell_type": "code",
            "execution_count": 175,
            "source": [
                "vectorization = TfidfVectorizer()\r\n",
                "xv_train = vectorization.fit_transform(x_train) #total terms: nXn matrix  \r\n",
                "xv_test = vectorization.transform(x_test)"
            ],
            "outputs": [],
            "metadata": {}
        },
        {
            "cell_type": "code",
            "execution_count": 176,
            "source": [
                "y_train.head()"
            ],
            "outputs": [
                {
                    "output_type": "execute_result",
                    "data": {
                        "text/plain": [
                            "13637    FAKE\n",
                            "42421    TRUE\n",
                            "37916    FAKE\n",
                            "3321     FAKE\n",
                            "2345     FAKE\n",
                            "Name: label, dtype: object"
                        ]
                    },
                    "metadata": {},
                    "execution_count": 176
                }
            ],
            "metadata": {}
        },
        {
            "cell_type": "code",
            "execution_count": 177,
            "source": [
                "from sklearn.linear_model import LogisticRegression\r\n",
                "\r\n"
            ],
            "outputs": [],
            "metadata": {}
        },
        {
            "cell_type": "code",
            "execution_count": 178,
            "source": [
                "Lr=LogisticRegression()\r\n",
                "Lr.fit(xv_train,y_train)\r\n"
            ],
            "outputs": [
                {
                    "output_type": "execute_result",
                    "data": {
                        "text/plain": [
                            "LogisticRegression()"
                        ]
                    },
                    "metadata": {},
                    "execution_count": 178
                }
            ],
            "metadata": {}
        },
        {
            "cell_type": "code",
            "execution_count": 179,
            "source": [
                "predic_Lr=Lr.predict(xv_test)"
            ],
            "outputs": [],
            "metadata": {}
        },
        {
            "cell_type": "code",
            "execution_count": 180,
            "source": [
                "accuracy = Lr.score(xv_test, y_test)\r\n",
                "print(accuracy*100)"
            ],
            "outputs": [
                {
                    "output_type": "stream",
                    "name": "stdout",
                    "text": [
                        "95.21603563474387\n"
                    ]
                }
            ],
            "metadata": {}
        },
        {
            "cell_type": "code",
            "execution_count": 181,
            "source": [
                "from sklearn.naive_bayes import MultinomialNB\r\n",
                "\r\n",
                "\r\n",
                "Nb = MultinomialNB()\r\n",
                "Nb.fit(xv_train, y_train)\r\n",
                "accuracy = Nb.score(xv_test, y_test)\r\n",
                "\r\n",
                "print(accuracy*100)"
            ],
            "outputs": [
                {
                    "output_type": "stream",
                    "name": "stdout",
                    "text": [
                        "94.21826280623607\n"
                    ]
                }
            ],
            "metadata": {}
        },
        {
            "cell_type": "code",
            "execution_count": 182,
            "source": [
                "from sklearn.tree import DecisionTreeClassifier\r\n",
                "\r\n",
                "\r\n",
                "Dt = DecisionTreeClassifier()\r\n",
                "Dt.fit(xv_train, y_train)\r\n",
                "accuracy = Dt.score(xv_test, y_test)\r\n",
                "\r\n",
                "print(accuracy*100)"
            ],
            "outputs": [
                {
                    "output_type": "stream",
                    "name": "stdout",
                    "text": [
                        "90.87750556792872\n"
                    ]
                }
            ],
            "metadata": {}
        },
        {
            "cell_type": "code",
            "execution_count": 183,
            "source": [
                "# PASSIVE-AGGRESSIVE CLASSIFIER\r\n",
                "\r\n",
                "from sklearn.metrics import accuracy_score\r\n",
                "\r\n",
                "from sklearn.linear_model import PassiveAggressiveClassifier\r\n",
                "\r\n",
                "#DataFlair - Initialize a PassiveAggressiveClassifier\r\n",
                "pac=PassiveAggressiveClassifier(max_iter=50)\r\n",
                "pac.fit(xv_train,y_train)\r\n",
                "#DataFlair - Predict on the test set and calculate accuracy\r\n",
                "y_pred=pac.predict(xv_test)\r\n",
                "accuracy=accuracy_score(y_test,y_pred)\r\n",
                "\r\n",
                "print(accuracy*100)"
            ],
            "outputs": [
                {
                    "output_type": "stream",
                    "name": "stdout",
                    "text": [
                        "95.0467706013363\n"
                    ]
                }
            ],
            "metadata": {}
        },
        {
            "cell_type": "code",
            "execution_count": 184,
            "source": [
                "from sklearn.ensemble import RandomForestClassifier\r\n",
                "Rfc = RandomForestClassifier(random_state=0)\r\n",
                "Rfc.fit(xv_train, y_train)\r\n",
                "predict_Rfc = Rfc.predict(xv_test)\r\n",
                "accuracy = Rfc.score(xv_test, y_test)\r\n",
                "\r\n",
                "print(accuracy*100)"
            ],
            "outputs": [
                {
                    "output_type": "stream",
                    "name": "stdout",
                    "text": [
                        "95.38530066815144\n"
                    ]
                }
            ],
            "metadata": {}
        },
        {
            "cell_type": "code",
            "execution_count": 185,
            "source": [
                "from sklearn.svm import LinearSVC\r\n",
                "\r\n",
                "clf = LinearSVC(random_state=0, tol=1e-5)\r\n",
                "clf.fit(xv_train,y_train)\r\n",
                "y_pred=clf.predict(xv_test)\r\n",
                "accuracy=accuracy_score(y_test,y_pred)\r\n",
                "\r\n",
                "print(accuracy*100)"
            ],
            "outputs": [
                {
                    "output_type": "stream",
                    "name": "stdout",
                    "text": [
                        "95.84855233853007\n"
                    ]
                }
            ],
            "metadata": {}
        },
        {
            "cell_type": "code",
            "execution_count": 186,
            "source": [
                "import pickle\r\n",
                "\r\n",
                "with open(\"modal\",'wb') as f:\r\n",
                "    pickle.dump(clf,f)"
            ],
            "outputs": [],
            "metadata": {}
        }
    ],
    "metadata": {
        "orig_nbformat": 4,
        "language_info": {
            "name": "python",
            "version": "3.9.6",
            "mimetype": "text/x-python",
            "codemirror_mode": {
                "name": "ipython",
                "version": 3
            },
            "pygments_lexer": "ipython3",
            "nbconvert_exporter": "python",
            "file_extension": ".py"
        },
        "kernelspec": {
            "name": "python3",
            "display_name": "Python 3.9.6 64-bit"
        },
        "interpreter": {
            "hash": "ac59ebe37160ed0dfa835113d9b8498d9f09ceb179beaac4002f036b9467c963"
        }
    },
    "nbformat": 4,
    "nbformat_minor": 2
}